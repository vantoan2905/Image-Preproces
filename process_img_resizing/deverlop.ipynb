{
 "cells": [
  {
   "cell_type": "markdown",
   "metadata": {},
   "source": [
    "# Aspect Ratio Preserving Resize (ARPR)"
   ]
  },
  {
   "cell_type": "code",
   "execution_count": null,
   "metadata": {},
   "outputs": [],
   "source": [
    "%matplotlib widget\n",
    "import os\n",
    "os.environ[\"KMP_DUPLICATE_LIB_OK\"]=\"TRUE\"\n",
    "\n",
    "\n",
    "import pandas as pd\n",
    "import cv2\n",
    "import numpy as np\n",
    "import matplotlib.pyplot as plt\n"
   ]
  },
  {
   "cell_type": "code",
   "execution_count": null,
   "metadata": {},
   "outputs": [],
   "source": [
    "\n",
    "class AspectRatioPreserving:\n",
    "    def __init__(self, img_path, new_width=None, new_height=None):\n",
    "        self.img_path = img_path\n",
    "        self.img = cv2.imread(self.img_path)\n",
    "        self.aspect_ratio = self.img.shape[1] / self.img.shape[0]\n",
    "        self.new_width = new_width\n",
    "        self.new_height = new_height\n",
    "        \n",
    "    def resize(self):\n",
    "        # Preserve aspect ratio when only one dimension is provided\n",
    "        if self.new_width and not self.new_height:\n",
    "            self.new_height = int(self.new_width / self.aspect_ratio)\n",
    "        elif self.new_height and not self.new_width:\n",
    "            self.new_width = int(self.new_height * self.aspect_ratio)\n",
    "        # Resize image\n",
    "        img_resized = cv2.resize(self.img, (self.new_width, self.new_height))\n",
    "        return img_resized\n",
    "    \n",
    "    def visualize(self):\n",
    "        img_resized = self.resize()\n",
    "        \n",
    "        # Plot original and resized images\n",
    "        plt.figure(figsize=(10, 10))\n",
    "        plt.subplot(1, 2, 1)\n",
    "        plt.imshow(cv2.cvtColor(self.img, cv2.COLOR_BGR2RGB))\n",
    "        plt.title('Original Image')\n",
    "        \n",
    "        plt.subplot(1, 2, 2)\n",
    "        plt.imshow(cv2.cvtColor(img_resized, cv2.COLOR_BGR2RGB))\n",
    "        plt.title('Resized Image')\n",
    "        \n",
    "        plt.show()"
   ]
  }
 ],
 "metadata": {
  "kernelspec": {
   "display_name": "yolo",
   "language": "python",
   "name": "python3"
  },
  "language_info": {
   "name": "python",
   "version": "3.10.14"
  }
 },
 "nbformat": 4,
 "nbformat_minor": 2
}
